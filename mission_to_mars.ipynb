{
 "cells": [
  {
   "cell_type": "markdown",
   "metadata": {},
   "source": [
    "## Nasa Mars News Site\n",
    "Collecting latest News Title and Paragraph Text\n",
    "https://mars.nasa.gov/news/"
   ]
  },
  {
   "cell_type": "code",
   "execution_count": 3,
   "metadata": {},
   "outputs": [
    {
     "name": "stdout",
     "output_type": "stream",
     "text": [
      "\n",
      "\n",
      "Opportunity Hunkers Down During Dust Storm\n",
      "\n",
      "\n"
     ]
    }
   ],
   "source": [
    "import requests\n",
    "from bs4 import BeautifulSoup\n",
    "import pandas as pd\n",
    "\n",
    "def news():\n",
    "    url = \"https://mars.nasa.gov/news/\"\n",
    "    data = requests.get(url)\n",
    "    soup = BeautifulSoup(data.text, \"html.parser\")\n",
    "    target = soup.find('div', {'class': 'content_title'})\n",
    "    what_i_want = target.find('a')\n",
    "    link = what_i_want.get(\"href\")\n",
    "    title = target.get_text()\n",
    "    website = \"https://mars.nasa.gov\"\n",
    "    article_url = website + link\n",
    "    other_data = requests.get(article_url)\n",
    "    soup = BeautifulSoup(other_data.text, \"html.parser\")\n",
    "    target = soup.find('div', {'class': \"wysiwyg_content\"})\n",
    "    paragraph_string = ''\n",
    "    for each in target.findAll('p'):\n",
    "        paragraph_string += each.get_text()\n",
    "    return title, paragraph_string\n",
    "    \n",
    "title, paragraph_string = news()\n",
    "print(title)"
   ]
  },
  {
   "cell_type": "markdown",
   "metadata": {},
   "source": [
    "## JPL Mars Space Featured Image\n",
    "Assign to URL to featured_image_url\n",
    "https://www.jpl.nasa.gov/spaceimages/?search=&category=Mars"
   ]
  },
  {
   "cell_type": "code",
   "execution_count": 5,
   "metadata": {},
   "outputs": [
    {
     "name": "stdout",
     "output_type": "stream",
     "text": [
      "https://www.jpl.nasa.gov/spaceimages/images/mediumsize/PIA18811_ip.jpg\n"
     ]
    }
   ],
   "source": [
    "def image():\n",
    "    url = \"https://www.jpl.nasa.gov/spaceimages/?search=&category=Mars\"\n",
    "    data = requests.get(url)\n",
    "    soup = BeautifulSoup(data.text, \"html.parser\")\n",
    "    target = soup.find('a', {'class': 'fancybox'})\n",
    "    image_url_end = target.get(\"data-fancybox-href\")\n",
    "    website = \"https://www.jpl.nasa.gov\"\n",
    "    featured_image_url = website + image_url_end\n",
    "    return featured_image_url\n",
    "\n",
    "print(image())"
   ]
  },
  {
   "cell_type": "markdown",
   "metadata": {},
   "source": [
    "## Mars Weather from Twitter\n",
    "Saving weather report tweet text in mars_weather variable\n",
    "https://twitter.com/marswxreport?lang=en"
   ]
  },
  {
   "cell_type": "code",
   "execution_count": 97,
   "metadata": {},
   "outputs": [
    {
     "name": "stdout",
     "output_type": "stream",
     "text": [
      "Sol 2142 (2018-08-15), high -10C/14F, low -71C/-95F, pressure at 8.65 hPa, daylight 05:28-17:41\n"
     ]
    }
   ],
   "source": [
    "def twitter():\n",
    "    url = \"https://twitter.com/marswxreport?lang=en\"\n",
    "    data = requests.get(url)\n",
    "    soup = BeautifulSoup(data.text, \"html.parser\")\n",
    "    target = soup.find('p', {'class': 'TweetTextSize TweetTextSize--normal js-tweet-text tweet-text'})\n",
    "    mars_weather = target.get_text()\n",
    "    return mars_weather"
   ]
  },
  {
   "cell_type": "markdown",
   "metadata": {},
   "source": [
    "## Mars Facts Table\n",
    "\n",
    "https://space-facts.com/mars/"
   ]
  },
  {
   "cell_type": "code",
   "execution_count": 98,
   "metadata": {},
   "outputs": [],
   "source": [
    "def table():\n",
    "    url = \"https://space-facts.com/mars/\"\n",
    "    mars_table = pd.read_html(\"http://space-facts.com/mars/\")\n",
    "    return mars_table\n"
   ]
  },
  {
   "cell_type": "markdown",
   "metadata": {},
   "source": [
    "## Mars Hemispheres\n",
    "https://astrogeology.usgs.gov/search/results?q=hemisphere+enhanced&k1=target&v1=Mars"
   ]
  },
  {
   "cell_type": "code",
   "execution_count": null,
   "metadata": {},
   "outputs": [],
   "source": [
    "def hemispheres():\n",
    "    url = \"https://astrogeology.usgs.gov/search/results?q=hemisphere+enhanced&k1=target&v1=Mars\"\n",
    "    data = requests.get(url)\n",
    "    soup = BeautifulSoup(data.text, \"html.parser\")\n",
    "    target = soup.find('table', {'class': \"tablepress tablepress-id-mars\"})"
   ]
  }
 ],
 "metadata": {
  "kernelspec": {
   "display_name": "Python 3",
   "language": "python",
   "name": "python3"
  },
  "language_info": {
   "codemirror_mode": {
    "name": "ipython",
    "version": 3
   },
   "file_extension": ".py",
   "mimetype": "text/x-python",
   "name": "python",
   "nbconvert_exporter": "python",
   "pygments_lexer": "ipython3",
   "version": "3.6.5"
  }
 },
 "nbformat": 4,
 "nbformat_minor": 2
}
